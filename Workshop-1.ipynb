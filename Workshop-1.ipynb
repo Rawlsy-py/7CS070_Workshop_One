{
 "cells": [
  {
   "attachments": {},
   "cell_type": "markdown",
   "metadata": {},
   "source": [
    "# Requirements: Workshop One\n",
    "The following questions should be created in one Jupyter notebook. This will make life easier for yourself to organise and answer the following questions. If you have any problems completing the questions, please contact a member of the module team and we will get back to you as soon as possible. You can also use the discussion tab to share knowledge and help each other. \n",
    "Once finished, you should submit your file, if you have multiple python program files, zip them up and submit as a single file. It would be useful to us if you could write a comment with your submission which questions you struggled on (if any) so we can provide feedback quicker.\n",
    "\n",
    "# Tasks\n",
    "- [X] Create a simple python program which prints your full name.\n",
    "- [X] Write a function which takes in two integers as parameters. The function will sum the two numbers and print the answer.\n",
    "- [X] Write a function which returns the area and perimeter of a circle. The function should only have one parameter; the radius.\n",
    "- [X] Write a function which finds and prints the mid-point coordinates of a line. The function should take in four parameters (x1, y1, x2 and y2).\n",
    "- [X] Write a function which takes one integer (n) as a parameter. Your function should then print out all triangular numbers from 1 up to the nth term. You will need to research the formula to find triangular numbers.\n",
    "- [X] Write a function which returns an appropriate value for the formula “F = MA.” F = Force. M = Mass. A = Acceleration. Depending on which variable is set to “None” when the function is called, your function should work it out and return that value. NOTE – “None” is also known as a “NULL” or “MISSING” value.\n",
    "- [X] Write a void function which solves quadratics. Your program will take three parameters. E.g. function(a, b, c). By solving quadratic equations, you are finding where the curve crosses the x axis. There are some equations which have 2, 1 or no roots at all. Your program should cater for all scenarios. The letters used in the function uses a, b and c as parameters. They represent ax^2+bx+c."
   ]
  },
  {
   "cell_type": "code",
   "execution_count": 1,
   "metadata": {},
   "outputs": [
    {
     "name": "stdout",
     "output_type": "stream",
     "text": [
      "Christopher Mitchell\n"
     ]
    }
   ],
   "source": [
    "x = \"Christopher Mitchell\"\n",
    "print(x)"
   ]
  },
  {
   "cell_type": "code",
   "execution_count": 2,
   "metadata": {},
   "outputs": [
    {
     "name": "stdout",
     "output_type": "stream",
     "text": [
      "70\n"
     ]
    }
   ],
   "source": [
    "def addition_function(x,y):\n",
    "    return x + y\n",
    "\n",
    "print(addition_function(50,20))"
   ]
  },
  {
   "cell_type": "code",
   "execution_count": 3,
   "metadata": {},
   "outputs": [
    {
     "name": "stdout",
     "output_type": "stream",
     "text": [
      "(78.5, 31.400000000000002)\n",
      "(314.0, 62.800000000000004)\n"
     ]
    }
   ],
   "source": [
    "def circle_Calc(r):\n",
    "    area = 3.14 * r**2\n",
    "    circumference = 2 * 3.14 * r\n",
    "    return area, circumference\n",
    "\n",
    "print(circle_Calc(5))\n",
    "print(circle_Calc(10))"
   ]
  },
  {
   "cell_type": "code",
   "execution_count": 4,
   "metadata": {},
   "outputs": [
    {
     "name": "stdout",
     "output_type": "stream",
     "text": [
      "(10.0, 15.0)\n",
      "(3.0, 3.0)\n"
     ]
    }
   ],
   "source": [
    "def mid_point(x1, y1, x2, y2):\n",
    "    x_mid = (x1 + x2)/2\n",
    "    y_mid = (y1 + y2)/2\n",
    "    return x_mid, y_mid\n",
    "\n",
    "print(mid_point(5, 10, 15, 20))\n",
    "print(mid_point(2, 2, 4, 4))"
   ]
  },
  {
   "cell_type": "code",
   "execution_count": 5,
   "metadata": {},
   "outputs": [
    {
     "name": "stdout",
     "output_type": "stream",
     "text": [
      "1\n",
      "3\n",
      "6\n",
      "10\n",
      "15\n",
      "1\n",
      "3\n",
      "6\n",
      "10\n",
      "15\n",
      "21\n",
      "28\n",
      "36\n",
      "45\n",
      "55\n"
     ]
    }
   ],
   "source": [
    "def triangular_numbers(n):\n",
    "    for i in range(1,n+1):\n",
    "        print(int(i*(i+1)/2))\n",
    "\n",
    "triangular_numbers(5)\n",
    "triangular_numbers(10)"
   ]
  },
  {
   "cell_type": "code",
   "execution_count": 6,
   "metadata": {},
   "outputs": [
    {
     "name": "stdout",
     "output_type": "stream",
     "text": [
      "20\n",
      "10.0\n",
      "2.0\n",
      "Error\n"
     ]
    }
   ],
   "source": [
    "def FMA(F, M, A):\n",
    "    if F == None:\n",
    "        return M * A\n",
    "    elif M == None:\n",
    "        return F / A\n",
    "    elif A == None:\n",
    "        return F / M\n",
    "    else:\n",
    "        return \"Error\"\n",
    "    \n",
    "print(FMA(None, 10, 2))\n",
    "print(FMA(20, None, 2))\n",
    "print(FMA(20, 10, None))\n",
    "print(FMA(20, 10, 2))"
   ]
  },
  {
   "cell_type": "code",
   "execution_count": 7,
   "metadata": {},
   "outputs": [
    {
     "name": "stdout",
     "output_type": "stream",
     "text": [
      "((-1+1.4142135623730951j), (-1-1.4142135623730951j))\n",
      "((-2.048076923076923+1.8598997475686472j), (-2.048076923076923-1.8598997475686472j))\n"
     ]
    }
   ],
   "source": [
    "def quadratic(a, b, c):\n",
    "    x1 = (-b + (b**2 - 4*a*c)**0.5)/(2*a)\n",
    "    x2 = (-b - (b**2 - 4*a*c)**0.5)/(2*a)\n",
    "    return x1, x2\n",
    "\n",
    "print(quadratic(10, 20, 30))\n",
    "print(quadratic(52, 213, 398))"
   ]
  }
 ],
 "metadata": {
  "kernelspec": {
   "display_name": "base",
   "language": "python",
   "name": "python3"
  },
  "language_info": {
   "codemirror_mode": {
    "name": "ipython",
    "version": 3
   },
   "file_extension": ".py",
   "mimetype": "text/x-python",
   "name": "python",
   "nbconvert_exporter": "python",
   "pygments_lexer": "ipython3",
   "version": "3.9.13"
  },
  "orig_nbformat": 4
 },
 "nbformat": 4,
 "nbformat_minor": 2
}
